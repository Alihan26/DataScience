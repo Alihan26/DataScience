{
 "cells": [
  {
   "cell_type": "markdown",
   "metadata": {},
   "source": [
    "EDA - STROKE PREDICTION"
   ]
  },
  {
   "cell_type": "markdown",
   "metadata": {},
   "source": [
    "# Based on the csv file, i want to do some simple analysis\n",
    "\n",
    "# 1. Is the Age and the BMI of the patient related to the severity of the lesion?\n",
    "# The first data we're looking at is age, bmi, nihs score (which is the severity of the stroke 0-42), \n",
    "# and the gs_rankin_6isdeath (which is the severity of the lesion 3 months after the stroke 1-6).\n",
    "\n",
    "# TO-DO 2. What's the most common location of the lesion?\n",
    "# Look at those locations, and find out which of them had bigger problems, so that \n",
    "# we can predict the severity of the lesion based on the location of the lesion."
   ]
  },
  {
   "cell_type": "markdown",
   "metadata": {},
   "source": [
    "# ====================================================\n",
    "# 1. Import Libraries and Configure Settings\n",
    "# ===================================================="
   ]
  },
  {
   "cell_type": "code",
   "execution_count": 4,
   "metadata": {
    "id": "_1KwHwldVqS6"
   },
   "outputs": [
    {
     "name": "stdout",
     "output_type": "stream",
     "text": [
      "Requirement already satisfied: numpy in /opt/anaconda3/envs/stroke-prediction/lib/python3.9/site-packages (2.0.2)\n",
      "Note: you may need to restart the kernel to use updated packages.\n",
      "Requirement already satisfied: seaborn in /opt/anaconda3/envs/stroke-prediction/lib/python3.9/site-packages (0.13.2)\n",
      "Requirement already satisfied: numpy!=1.24.0,>=1.20 in /opt/anaconda3/envs/stroke-prediction/lib/python3.9/site-packages (from seaborn) (2.0.2)\n",
      "Requirement already satisfied: pandas>=1.2 in /opt/anaconda3/envs/stroke-prediction/lib/python3.9/site-packages (from seaborn) (2.2.3)\n",
      "Requirement already satisfied: matplotlib!=3.6.1,>=3.4 in /opt/anaconda3/envs/stroke-prediction/lib/python3.9/site-packages (from seaborn) (3.9.4)\n",
      "Requirement already satisfied: contourpy>=1.0.1 in /opt/anaconda3/envs/stroke-prediction/lib/python3.9/site-packages (from matplotlib!=3.6.1,>=3.4->seaborn) (1.3.0)\n",
      "Requirement already satisfied: cycler>=0.10 in /opt/anaconda3/envs/stroke-prediction/lib/python3.9/site-packages (from matplotlib!=3.6.1,>=3.4->seaborn) (0.12.1)\n",
      "Requirement already satisfied: fonttools>=4.22.0 in /opt/anaconda3/envs/stroke-prediction/lib/python3.9/site-packages (from matplotlib!=3.6.1,>=3.4->seaborn) (4.56.0)\n",
      "Requirement already satisfied: kiwisolver>=1.3.1 in /opt/anaconda3/envs/stroke-prediction/lib/python3.9/site-packages (from matplotlib!=3.6.1,>=3.4->seaborn) (1.4.7)\n",
      "Requirement already satisfied: packaging>=20.0 in /opt/anaconda3/envs/stroke-prediction/lib/python3.9/site-packages (from matplotlib!=3.6.1,>=3.4->seaborn) (24.2)\n",
      "Requirement already satisfied: pillow>=8 in /opt/anaconda3/envs/stroke-prediction/lib/python3.9/site-packages (from matplotlib!=3.6.1,>=3.4->seaborn) (11.1.0)\n",
      "Requirement already satisfied: pyparsing>=2.3.1 in /opt/anaconda3/envs/stroke-prediction/lib/python3.9/site-packages (from matplotlib!=3.6.1,>=3.4->seaborn) (3.2.3)\n",
      "Requirement already satisfied: python-dateutil>=2.7 in /opt/anaconda3/envs/stroke-prediction/lib/python3.9/site-packages (from matplotlib!=3.6.1,>=3.4->seaborn) (2.9.0.post0)\n",
      "Requirement already satisfied: importlib-resources>=3.2.0 in /opt/anaconda3/envs/stroke-prediction/lib/python3.9/site-packages (from matplotlib!=3.6.1,>=3.4->seaborn) (6.5.2)\n",
      "Requirement already satisfied: pytz>=2020.1 in /opt/anaconda3/envs/stroke-prediction/lib/python3.9/site-packages (from pandas>=1.2->seaborn) (2024.1)\n",
      "Requirement already satisfied: tzdata>=2022.7 in /opt/anaconda3/envs/stroke-prediction/lib/python3.9/site-packages (from pandas>=1.2->seaborn) (2025.2)\n",
      "Requirement already satisfied: zipp>=3.1.0 in /opt/anaconda3/envs/stroke-prediction/lib/python3.9/site-packages (from importlib-resources>=3.2.0->matplotlib!=3.6.1,>=3.4->seaborn) (3.21.0)\n",
      "Requirement already satisfied: six>=1.5 in /opt/anaconda3/envs/stroke-prediction/lib/python3.9/site-packages (from python-dateutil>=2.7->matplotlib!=3.6.1,>=3.4->seaborn) (1.17.0)\n",
      "Note: you may need to restart the kernel to use updated packages.\n"
     ]
    }
   ],
   "source": [
    "# Imports from the BluePrint:\n",
    "%matplotlib inline\n",
    "%pip install numpy\n",
    "%pip install seaborn\n",
    "# Importing the Packages\n",
    "import pandas as pd\n",
    "import numpy as np\n",
    "import matplotlib.pyplot as plt\n",
    "from matplotlib.pylab import rcParams\n",
    "import seaborn as sns\n",
    "rcParams['figure.figsize'] = 10, 8\n",
    "from sklearn.preprocessing import StandardScaler\n",
    "from sklearn.model_selection import train_test_split\n",
    "from sklearn.linear_model import LinearRegression\n",
    "from sklearn.ensemble import RandomForestRegressor\n",
    "from sklearn.tree import DecisionTreeRegressor\n",
    "from sklearn.svm import SVR\n",
    "from sklearn.metrics import mean_squared_error\n",
    "from sklearn.model_selection import GridSearchCV\n",
    "from sklearn.linear_model import LogisticRegression\n",
    "from sklearn.tree import DecisionTreeClassifier\n",
    "from sklearn.tree import export_graphviz\n",
    "from sklearn.ensemble import RandomForestClassifier\n",
    "from sklearn.neighbors import KNeighborsClassifier\n",
    "from sklearn.metrics import accuracy_score\n",
    "\n",
    "\n",
    "# Imports for Alihan:\n",
    "import pandas as pd\n",
    "import numpy as np\n",
    "import matplotlib.pyplot as plt\n",
    "import seaborn as sns\n",
    "from matplotlib.pylab import rcParams\n",
    "# Set a global plot size for individual plots\n",
    "rcParams['figure.figsize'] = 10, 8\n",
    "# Machine Learning and Data Preprocessing Packages\n",
    "from sklearn.preprocessing import StandardScaler\n",
    "from sklearn.model_selection import train_test_split\n",
    "from sklearn.linear_model import LinearRegression\n",
    "from sklearn.ensemble import RandomForestRegressor\n",
    "from sklearn.tree import DecisionTreeRegressor\n",
    "from sklearn.svm import SVR\n",
    "from sklearn.metrics import mean_squared_error\n",
    "from sklearn.model_selection import GridSearchCV\n",
    "from sklearn.linear_model import LogisticRegression\n",
    "from sklearn.tree import DecisionTreeClassifier\n",
    "from sklearn.tree import export_graphviz\n",
    "from sklearn.ensemble import RandomForestClassifier\n",
    "from sklearn.neighbors import KNeighborsClassifier\n",
    "from sklearn.metrics import accuracy_score"
   ]
  },
  {
   "cell_type": "markdown",
   "metadata": {},
   "source": [
    "# ====================================================\n",
    "# 2. Load the Data\n",
    "# ===================================================="
   ]
  },
  {
   "cell_type": "code",
   "execution_count": null,
   "metadata": {},
   "outputs": [],
   "source": [
    "# Replace 'stroke_data.csv' with the actual CSV filename if it differs.\n",
    "data = pd.read_csv(\"complete_per_patient_t1_volumetry.csv\")\n",
    "\n",
    "# Preview the data and list all column names\n",
    "print(\"Data Preview:\")\n",
    "print(data.head())\n",
    "print(\"\\nAll Columns in the Dataset:\")\n",
    "print(data.columns.tolist())"
   ]
  },
  {
   "cell_type": "markdown",
   "metadata": {},
   "source": [
    "# ====================================================\n",
    "# 3. Data Cleaning & Filtering\n",
    "# ===================================================="
   ]
  },
  {
   "cell_type": "code",
   "execution_count": null,
   "metadata": {},
   "outputs": [],
   "source": [
    "# 3.1 Remove duplicate rows, if any\n",
    "initial_shape = data.shape\n",
    "data.drop_duplicates(inplace=True)\n",
    "print(f\"\\nRemoved {initial_shape[0] - data.shape[0]} duplicate rows.\")\n",
    "\n",
    "# Columns of interest for cleaning/analysis\n",
    "cols_of_interest = ['sex', 'age', 'bmi', 'nihss', 'gs_rankin_6isdeath', 'acuteischaemicstroke']\n",
    "\n",
    "# 3.2 Drop rows with missing values in columns of interest (example approach)\n",
    "before_dropna_shape = data.shape\n",
    "data.dropna(subset=cols_of_interest, inplace=True)\n",
    "print(f\"Removed {before_dropna_shape[0] - data.shape[0]} rows due to missing values in columns of interest.\")\n",
    "\n",
    "# 3.3 Convert or unify 'sex' values if needed\n",
    "# Example: If 'sex' is coded as 1=male, 2=female, or M/F strings\n",
    "sex_mapping = {\n",
    "    1: 'male',\n",
    "    2: 'female',\n",
    "    'M': 'male',\n",
    "    'F': 'female'\n",
    "}\n",
    "data['sex'] = data['sex'].replace(sex_mapping)\n",
    "\n",
    "# 3.4 Filter outliers or invalid ranges (adjust thresholds as appropriate)\n",
    "valid_age_mask = (data['age'] >= 0) & (data['age'] <= 120)\n",
    "valid_bmi_mask = (data['bmi'] >= 10) & (data['bmi'] <= 50)\n",
    "valid_nihss_mask = (data['nihss'] >= 0) & (data['nihss'] <= 42)\n",
    "valid_rankin_mask = (data['gs_rankin_6isdeath'] >= 1) & (data['gs_rankin_6isdeath'] <= 6)\n",
    "\n",
    "combined_mask = valid_age_mask & valid_bmi_mask & valid_nihss_mask & valid_rankin_mask\n",
    "before_filter_shape = data.shape\n",
    "data = data[combined_mask]\n",
    "print(f\"Removed {before_filter_shape[0] - data.shape[0]} rows due to out-of-range values.\")\n",
    "\n",
    "# Create a final cleaned subset with the columns of interest\n",
    "# (Include 'acuteischaemicstroke' so we can visualize stroke counts)\n",
    "clean_cols = ['sex', 'age', 'bmi', 'nihss', 'gs_rankin_6isdeath', 'acuteischaemicstroke']\n",
    "data_subset = data[clean_cols]\n",
    "\n",
    "print(\"\\nCleaned Data Subset Preview:\")\n",
    "print(data_subset.head())\n",
    "print(\"\\nSummary of Cleaned Data Subset:\")\n",
    "print(data_subset.describe())"
   ]
  },
  {
   "cell_type": "markdown",
   "metadata": {},
   "source": [
    "# ====================================================\n",
    "# 4. Correlation Analysis (Cleaned Data)\n",
    "# ===================================================="
   ]
  },
  {
   "cell_type": "code",
   "execution_count": null,
   "metadata": {},
   "outputs": [],
   "source": [
    "numeric_cols = ['age', 'bmi', 'nihss', 'gs_rankin_6isdeath']\n",
    "corr_matrix = data_subset[numeric_cols].corr()\n",
    "print(\"\\nCorrelation Matrix (Cleaned Data):\")\n",
    "print(corr_matrix)"
   ]
  },
  {
   "cell_type": "markdown",
   "metadata": {},
   "source": [
    "# ====================================================\n",
    "# 5. Original Grid of Plots (Scatter, Box, Heatmap)\n",
    "# ===================================================="
   ]
  },
  {
   "cell_type": "code",
   "execution_count": null,
   "metadata": {},
   "outputs": [],
   "source": [
    "fig, axs = plt.subplots(2, 3, figsize=(20, 12))\n",
    "\n",
    "# Plot 1: Age vs Lesion Severity\n",
    "sns.scatterplot(ax=axs[0, 0], x='age', y='gs_rankin_6isdeath', data=data_subset)\n",
    "axs[0, 0].set_title('Age vs Lesion Severity')\n",
    "axs[0, 0].set_xlabel('Age')\n",
    "axs[0, 0].set_ylabel('Lesion Severity (gs_rankin_6isdeath)')\n",
    "\n",
    "# Plot 2: BMI vs Lesion Severity\n",
    "sns.scatterplot(ax=axs[0, 1], x='bmi', y='gs_rankin_6isdeath', data=data_subset)\n",
    "axs[0, 1].set_title('BMI vs Lesion Severity')\n",
    "axs[0, 1].set_xlabel('BMI')\n",
    "axs[0, 1].set_ylabel('Lesion Severity (gs_rankin_6isdeath)')\n",
    "\n",
    "# Plot 3: NIHSS vs Lesion Severity\n",
    "sns.scatterplot(ax=axs[0, 2], x='nihss', y='gs_rankin_6isdeath', data=data_subset)\n",
    "axs[0, 2].set_title('NIHSS vs Lesion Severity')\n",
    "axs[0, 2].set_xlabel('NIHSS (Stroke Severity)')\n",
    "axs[0, 2].set_ylabel('Lesion Severity (gs_rankin_6isdeath)')\n",
    "\n",
    "# Plot 4: Boxplot - Lesion Severity by Sex\n",
    "sns.boxplot(ax=axs[1, 0], x='sex', y='gs_rankin_6isdeath', data=data_subset)\n",
    "axs[1, 0].set_title('Lesion Severity by Sex')\n",
    "axs[1, 0].set_xlabel('Sex')\n",
    "axs[1, 0].set_ylabel('Lesion Severity (gs_rankin_6isdeath)')\n",
    "\n",
    "# Plot 5: Heatmap - Correlation Matrix\n",
    "sns.heatmap(corr_matrix, annot=True, cmap='coolwarm', ax=axs[1, 1])\n",
    "axs[1, 1].set_title('Correlation Matrix Heatmap')\n",
    "\n",
    "# Leave the 6th subplot empty or for future use\n",
    "axs[1, 2].axis('off')\n",
    "\n",
    "plt.tight_layout()\n",
    "plt.show()"
   ]
  },
  {
   "cell_type": "markdown",
   "metadata": {},
   "source": [
    "# ====================================================\n",
    "# 6. Additional Plots: Stroke Patients' Age & BMI Distributions\n",
    "# ===================================================="
   ]
  },
  {
   "cell_type": "code",
   "execution_count": null,
   "metadata": {},
   "outputs": [],
   "source": [
    "# Filter data for stroke patients only\n",
    "stroke_data = data[data['acuteischaemicstroke'] == 1]\n",
    "\n",
    "# Arrange the three plots in a 1x3 grid.\n",
    "fig2, axs2 = plt.subplots(1, 3, figsize=(18, 5))\n",
    "\n",
    "# 6.1 Age Distribution for Stroke Patients\n",
    "sns.histplot(stroke_data['age'], kde=True, ax=axs2[0], color='orange')\n",
    "axs2[0].set_title(\"Age Distribution (Stroke Patients)\")\n",
    "axs2[0].set_xlabel(\"Age\")\n",
    "axs2[0].set_ylabel(\"Frequency\")\n",
    "\n",
    "# 6.2 BMI Distribution for Stroke Patients\n",
    "sns.histplot(stroke_data['bmi'], kde=True, ax=axs2[1], color='green')\n",
    "axs2[1].set_title(\"BMI Distribution (Stroke Patients)\")\n",
    "axs2[1].set_xlabel(\"BMI\")\n",
    "axs2[1].set_ylabel(\"Frequency\")\n",
    "\n",
    "# 6.3 Combined Scatter: Age vs. BMI (Stroke Patients)\n",
    "sns.scatterplot(x='age', y='bmi', data=stroke_data, ax=axs2[2], color='red')\n",
    "axs2[2].set_title(\"Age vs. BMI (Stroke Patients)\")\n",
    "axs2[2].set_xlabel(\"Age\")\n",
    "axs2[2].set_ylabel(\"BMI\")\n",
    "\n",
    "plt.tight_layout()\n",
    "plt.show()\n",
    "\n",
    "# ====================================================\n",
    "# 7. Mixed Analysis: Regression between Age and BMI among Stroke Patients\n",
    "# ====================================================\n",
    "# Compute the Pearson correlation coefficient between Age and BMI.\n",
    "corr_val = stroke_data['age'].corr(stroke_data['bmi'])\n",
    "\n",
    "# Create a plot with a regression line.\n",
    "plt.figure(figsize=(10, 8))\n",
    "sns.regplot(data=stroke_data, x='age', y='bmi', scatter_kws={'alpha': 0.6})\n",
    "plt.title(f\"Regression between Age and BMI among Stroke Patients (r = {corr_val:.2f})\")\n",
    "plt.xlabel(\"Age\")\n",
    "plt.ylabel(\"BMI\")\n",
    "plt.show()"
   ]
  }
 ],
 "metadata": {
  "colab": {
   "provenance": []
  },
  "kernelspec": {
   "display_name": "stroke-prediction",
   "language": "python",
   "name": "python3"
  },
  "language_info": {
   "codemirror_mode": {
    "name": "ipython",
    "version": 3
   },
   "file_extension": ".py",
   "mimetype": "text/x-python",
   "name": "python",
   "nbconvert_exporter": "python",
   "pygments_lexer": "ipython3",
   "version": "3.9.21"
  }
 },
 "nbformat": 4,
 "nbformat_minor": 4
}
